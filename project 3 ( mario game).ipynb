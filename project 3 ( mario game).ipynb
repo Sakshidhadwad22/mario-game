{
 "cells": [
  {
   "cell_type": "code",
   "execution_count": 13,
   "id": "f37f5307",
   "metadata": {},
   "outputs": [
    {
     "name": "stdout",
     "output_type": "stream",
     "text": [
      "welcome to the game!!!\n",
      "are you ready for having some fun?\n"
     ]
    }
   ],
   "source": [
    "class game():\n",
    "    print(\"welcome to the game!!!\")\n",
    "    print(\"are you ready for having some fun?\")\n",
    "    \n",
    "    def __init__(self,name):\n",
    "        self.name=name\n",
    "        self.__score=0\n",
    "        self.__life=3\n",
    "        \n",
    "    def game_rule(self):\n",
    "        print(\"Game rule as follows\\n\\npunch= 5 points\\nkick= 10 points\\nknockout= 15 points\\nstabbed= -1 life\\n\")\n",
    "    \n",
    "    def puch(self):\n",
    "        self.__score=self.__score+5\n",
    "    \n",
    "    def kick(self):\n",
    "        self.__score=self.__score+10\n",
    "        \n",
    "    def knockout(self):\n",
    "        self.__score=self.__life+15\n",
    "    \n",
    "    def stabbed(self):\n",
    "        self.__life=self.__life-1\n",
    "    \n",
    "    def displayscore(self):\n",
    "        return self.__score\n",
    "\n",
    "    def displaylife(self):\n",
    "        return self.__life\n",
    "    \n",
    "    def match_status(self):\n",
    "        __win=20\n",
    "        __health=0\n",
    "        if self.__score>__win:\n",
    "            print(\"victory\")\n",
    "        elif self.__life==__health:\n",
    "            print(\"Game over\")\n",
    "        else:\n",
    "            print(\"Still you are in game\")\n",
    "    \n",
    "    def score(self):\n",
    "        print(\"so\", self.name ,\"your score is below\")\n",
    "        print(\"score=\",self.displayscore())\n",
    "       \n",
    "d=game(\"sakshi\")\n"
   ]
  },
  {
   "cell_type": "code",
   "execution_count": 14,
   "id": "0f112e04",
   "metadata": {},
   "outputs": [
    {
     "data": {
      "text/plain": [
       "3"
      ]
     },
     "execution_count": 14,
     "metadata": {},
     "output_type": "execute_result"
    }
   ],
   "source": [
    "d.displaylife()"
   ]
  },
  {
   "cell_type": "code",
   "execution_count": 15,
   "id": "749e8a26",
   "metadata": {},
   "outputs": [
    {
     "data": {
      "text/plain": [
       "0"
      ]
     },
     "execution_count": 15,
     "metadata": {},
     "output_type": "execute_result"
    }
   ],
   "source": [
    "d.displayscore()"
   ]
  },
  {
   "cell_type": "code",
   "execution_count": 16,
   "id": "2bc106ba",
   "metadata": {},
   "outputs": [
    {
     "name": "stdout",
     "output_type": "stream",
     "text": [
      "Game rule as follows\n",
      "\n",
      "punch= 5 points\n",
      "kick= 10 points\n",
      "knockout= 15 points\n",
      "stabbed= -1 life\n",
      "\n"
     ]
    }
   ],
   "source": [
    "d.game_rule()"
   ]
  },
  {
   "cell_type": "code",
   "execution_count": 17,
   "id": "1834bbd7",
   "metadata": {},
   "outputs": [],
   "source": [
    "d.kick()"
   ]
  },
  {
   "cell_type": "code",
   "execution_count": 18,
   "id": "a6959a50",
   "metadata": {},
   "outputs": [],
   "source": [
    "d.knockout()"
   ]
  },
  {
   "cell_type": "code",
   "execution_count": 19,
   "id": "97d26051",
   "metadata": {},
   "outputs": [
    {
     "name": "stdout",
     "output_type": "stream",
     "text": [
      "Still you are in game\n"
     ]
    }
   ],
   "source": [
    "d.match_status()"
   ]
  },
  {
   "cell_type": "code",
   "execution_count": 20,
   "id": "d855d5ae",
   "metadata": {},
   "outputs": [
    {
     "data": {
      "text/plain": [
       "'sakshi'"
      ]
     },
     "execution_count": 20,
     "metadata": {},
     "output_type": "execute_result"
    }
   ],
   "source": [
    "d.name"
   ]
  },
  {
   "cell_type": "code",
   "execution_count": 21,
   "id": "f76b8ca6",
   "metadata": {},
   "outputs": [],
   "source": [
    "d.puch()"
   ]
  },
  {
   "cell_type": "code",
   "execution_count": 22,
   "id": "99a91c31",
   "metadata": {},
   "outputs": [
    {
     "name": "stdout",
     "output_type": "stream",
     "text": [
      "so sakshi your score is below\n",
      "score= 23\n"
     ]
    }
   ],
   "source": [
    "d.score()"
   ]
  },
  {
   "cell_type": "code",
   "execution_count": 23,
   "id": "25a9d04b",
   "metadata": {},
   "outputs": [],
   "source": [
    "d.stabbed()"
   ]
  },
  {
   "cell_type": "code",
   "execution_count": null,
   "id": "c7a3c367",
   "metadata": {},
   "outputs": [],
   "source": []
  }
 ],
 "metadata": {
  "kernelspec": {
   "display_name": "Python 3 (ipykernel)",
   "language": "python",
   "name": "python3"
  },
  "language_info": {
   "codemirror_mode": {
    "name": "ipython",
    "version": 3
   },
   "file_extension": ".py",
   "mimetype": "text/x-python",
   "name": "python",
   "nbconvert_exporter": "python",
   "pygments_lexer": "ipython3",
   "version": "3.9.12"
  }
 },
 "nbformat": 4,
 "nbformat_minor": 5
}
